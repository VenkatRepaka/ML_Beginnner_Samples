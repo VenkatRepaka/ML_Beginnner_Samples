{
 "cells": [
  {
   "cell_type": "code",
   "execution_count": 3,
   "metadata": {},
   "outputs": [],
   "source": [
    "import numpy as np"
   ]
  },
  {
   "cell_type": "markdown",
   "metadata": {},
   "source": [
    "## Numpy Arrays"
   ]
  },
  {
   "cell_type": "markdown",
   "metadata": {},
   "source": [
    "##### A. Arrays"
   ]
  },
  {
   "cell_type": "code",
   "execution_count": 11,
   "metadata": {},
   "outputs": [
    {
     "name": "stdout",
     "output_type": "stream",
     "text": [
      "[1 2 3]\n",
      "array([1, 2, 3], dtype=int32)\n"
     ]
    }
   ],
   "source": [
    "arr = np.array([1, 2, 3], dtype=np.int32)\n",
    "print(arr)\n",
    "print(repr(arr))"
   ]
  },
  {
   "cell_type": "markdown",
   "metadata": {},
   "source": [
    "##### B. Copying in numpy "
   ]
  },
  {
   "cell_type": "code",
   "execution_count": 6,
   "metadata": {},
   "outputs": [
    {
     "name": "stdout",
     "output_type": "stream",
     "text": [
      "a [100   2]\n",
      "c [100   2]\n",
      "b [ 9 10]\n",
      "d [100  10]\n"
     ]
    }
   ],
   "source": [
    "a = np.array([1, 2])\n",
    "b = np.array([9, 10])\n",
    "c = a\n",
    "c[0] = 100\n",
    "print('a', a)\n",
    "print('c', c)\n",
    "\n",
    "d = b.copy()\n",
    "d[0] = 100\n",
    "print('b', b)\n",
    "print('d', d)"
   ]
  },
  {
   "cell_type": "markdown",
   "metadata": {},
   "source": [
    "##### C. Casting"
   ]
  },
  {
   "cell_type": "code",
   "execution_count": 9,
   "metadata": {},
   "outputs": [
    {
     "name": "stdout",
     "output_type": "stream",
     "text": [
      "int64\n",
      "[0 1 2]\n",
      "float32\n",
      "[0. 1. 2.]\n"
     ]
    }
   ],
   "source": [
    "arr = np.array([0, 1, 2])\n",
    "print(arr.dtype)\n",
    "print(arr)\n",
    "arr = arr.astype(np.float32)\n",
    "print(arr.dtype)\n",
    "print(arr)"
   ]
  },
  {
   "cell_type": "markdown",
   "metadata": {},
   "source": [
    "##### D. NaN"
   ]
  },
  {
   "cell_type": "code",
   "execution_count": 14,
   "metadata": {},
   "outputs": [
    {
     "name": "stdout",
     "output_type": "stream",
     "text": [
      "array([nan,  1.,  2.])\n",
      "array(['nan', 'abc'], dtype='<U32')\n"
     ]
    },
    {
     "ename": "ValueError",
     "evalue": "cannot convert float NaN to integer",
     "output_type": "error",
     "traceback": [
      "\u001b[0;31m---------------------------------------------------------------------------\u001b[0m",
      "\u001b[0;31mValueError\u001b[0m                                Traceback (most recent call last)",
      "\u001b[0;32m<ipython-input-14-c760fdd2c504>\u001b[0m in \u001b[0;36m<module>\u001b[0;34m\u001b[0m\n\u001b[1;32m      6\u001b[0m \u001b[0;34m\u001b[0m\u001b[0m\n\u001b[1;32m      7\u001b[0m \u001b[0;31m# Will result in a ValueError\u001b[0m\u001b[0;34m\u001b[0m\u001b[0;34m\u001b[0m\u001b[0;34m\u001b[0m\u001b[0m\n\u001b[0;32m----> 8\u001b[0;31m \u001b[0mnp\u001b[0m\u001b[0;34m.\u001b[0m\u001b[0marray\u001b[0m\u001b[0;34m(\u001b[0m\u001b[0;34m[\u001b[0m\u001b[0mnp\u001b[0m\u001b[0;34m.\u001b[0m\u001b[0mnan\u001b[0m\u001b[0;34m,\u001b[0m \u001b[0;36m1\u001b[0m\u001b[0;34m,\u001b[0m \u001b[0;36m2\u001b[0m\u001b[0;34m]\u001b[0m\u001b[0;34m,\u001b[0m \u001b[0mdtype\u001b[0m\u001b[0;34m=\u001b[0m\u001b[0mnp\u001b[0m\u001b[0;34m.\u001b[0m\u001b[0mint32\u001b[0m\u001b[0;34m)\u001b[0m\u001b[0;34m\u001b[0m\u001b[0;34m\u001b[0m\u001b[0m\n\u001b[0m",
      "\u001b[0;31mValueError\u001b[0m: cannot convert float NaN to integer"
     ]
    }
   ],
   "source": [
    "arr = np.array([np.nan, 1, 2])\n",
    "print(repr(arr))\n",
    "\n",
    "arr = np.array([np.nan, 'abc'])\n",
    "print(repr(arr))\n",
    "\n",
    "# Will result in a ValueError\n",
    "np.array([np.nan, 1, 2], dtype=np.int32)"
   ]
  },
  {
   "cell_type": "markdown",
   "metadata": {},
   "source": [
    "##### E. Infinity"
   ]
  },
  {
   "cell_type": "code",
   "execution_count": 18,
   "metadata": {},
   "outputs": [
    {
     "name": "stdout",
     "output_type": "stream",
     "text": [
      "True\n",
      "array([inf,  5.])\n",
      "array([-inf,   1.])\n"
     ]
    },
    {
     "ename": "OverflowError",
     "evalue": "cannot convert float infinity to integer",
     "output_type": "error",
     "traceback": [
      "\u001b[0;31m---------------------------------------------------------------------------\u001b[0m",
      "\u001b[0;31mOverflowError\u001b[0m                             Traceback (most recent call last)",
      "\u001b[0;32m<ipython-input-18-e27924d225e8>\u001b[0m in \u001b[0;36m<module>\u001b[0;34m\u001b[0m\n\u001b[1;32m      8\u001b[0m \u001b[0;34m\u001b[0m\u001b[0m\n\u001b[1;32m      9\u001b[0m \u001b[0;31m# Will result in an OverflowError\u001b[0m\u001b[0;34m\u001b[0m\u001b[0;34m\u001b[0m\u001b[0;34m\u001b[0m\u001b[0m\n\u001b[0;32m---> 10\u001b[0;31m \u001b[0mnp\u001b[0m\u001b[0;34m.\u001b[0m\u001b[0marray\u001b[0m\u001b[0;34m(\u001b[0m\u001b[0;34m[\u001b[0m\u001b[0mnp\u001b[0m\u001b[0;34m.\u001b[0m\u001b[0minf\u001b[0m\u001b[0;34m,\u001b[0m \u001b[0;36m3\u001b[0m\u001b[0;34m]\u001b[0m\u001b[0;34m,\u001b[0m \u001b[0mdtype\u001b[0m\u001b[0;34m=\u001b[0m\u001b[0mnp\u001b[0m\u001b[0;34m.\u001b[0m\u001b[0mint32\u001b[0m\u001b[0;34m)\u001b[0m\u001b[0;34m\u001b[0m\u001b[0;34m\u001b[0m\u001b[0m\n\u001b[0m",
      "\u001b[0;31mOverflowError\u001b[0m: cannot convert float infinity to integer"
     ]
    }
   ],
   "source": [
    "print(np.inf > 1000000)\n",
    "\n",
    "arr = np.array([np.inf, 5])\n",
    "print(repr(arr))\n",
    "\n",
    "arr = np.array([-np.inf, 1])\n",
    "print(repr(arr))\n",
    "\n",
    "# Will result in an OverflowError\n",
    "np.array([np.inf, 3], dtype=np.int32)"
   ]
  },
  {
   "cell_type": "markdown",
   "metadata": {},
   "source": [
    "## Numpy Basics"
   ]
  },
  {
   "cell_type": "markdown",
   "metadata": {},
   "source": [
    "##### A. Ranged Data"
   ]
  },
  {
   "cell_type": "code",
   "execution_count": 25,
   "metadata": {},
   "outputs": [
    {
     "name": "stdout",
     "output_type": "stream",
     "text": [
      "array([0, 1, 2, 3, 4])\n",
      "array([0., 1., 2., 3., 4.], dtype=float32)\n",
      "array([0., 1., 2., 3., 4., 5.])\n",
      "array([0., 1., 2., 3., 4., 5.])\n",
      "array([-1,  0,  1,  2,  3])\n",
      "array([-1.5,  0.5,  2.5])\n"
     ]
    }
   ],
   "source": [
    "arr = np.arange(5)\n",
    "print(repr(arr))\n",
    "\n",
    "arr = np.arange(5, dtype=np.float32)\n",
    "print(repr(arr))\n",
    "\n",
    "arr = np.arange(5.1)\n",
    "print(repr(arr))\n",
    "\n",
    "arr = np.arange(5.2)\n",
    "print(repr(arr))\n",
    "\n",
    "arr = np.arange(-1, 4)\n",
    "print(repr(arr))\n",
    "\n",
    "arr = np.arange(-1.5, 4, 2)\n",
    "print(repr(arr))"
   ]
  },
  {
   "cell_type": "code",
   "execution_count": 29,
   "metadata": {},
   "outputs": [
    {
     "name": "stdout",
     "output_type": "stream",
     "text": [
      "array([1, 2, 3, 4], dtype=int32)\n",
      "array([1., 2., 3., 4.])\n",
      "array([1.  , 1.75, 2.5 , 3.25])\n"
     ]
    }
   ],
   "source": [
    "# End of the range is inclusive\n",
    "arr = np.linspace(1, 4, num=4, dtype=np.int32)\n",
    "print(repr(arr))\n",
    "\n",
    "arr = np.linspace(1, 4, num=4)\n",
    "print(repr(arr))\n",
    "\n",
    "# To make end of the range exclusive\n",
    "arr = np.linspace(1, 4, num=4, endpoint=False)\n",
    "print(repr(arr))"
   ]
  },
  {
   "cell_type": "markdown",
   "metadata": {},
   "source": [
    "##### B. Reshaping"
   ]
  },
  {
   "cell_type": "code",
   "execution_count": 32,
   "metadata": {},
   "outputs": [
    {
     "name": "stdout",
     "output_type": "stream",
     "text": [
      "array([[0, 1, 2, 3],\n",
      "       [4, 5, 6, 7]])\n",
      "New shape: (2, 4)\n",
      "array([[[0, 1],\n",
      "        [2, 3]],\n",
      "\n",
      "       [[4, 5],\n",
      "        [6, 7]]])\n",
      "New shape: (2, 2, 2)\n"
     ]
    }
   ],
   "source": [
    "arr = np.arange(8)\n",
    "\n",
    "reshaped_arr = np.reshape(arr, (2, 4))\n",
    "print(repr(reshaped_arr))\n",
    "print('New shape: {}'.format(reshaped_arr.shape))\n",
    "\n",
    "# -1 is allowed in only one of the arguments in reshape. It will take necessary value to allow all elements\n",
    "reshaped_arr = np.reshape(arr, (-1, 2, 2))\n",
    "print(repr(reshaped_arr))\n",
    "print('New shape: {}'.format(reshaped_arr.shape))"
   ]
  },
  {
   "cell_type": "code",
   "execution_count": 34,
   "metadata": {},
   "outputs": [
    {
     "name": "stdout",
     "output_type": "stream",
     "text": [
      "array([[0, 1, 2, 3],\n",
      "       [4, 5, 6, 7]])\n",
      "arr shape: (2, 4)\n",
      "array([0, 1, 2, 3, 4, 5, 6, 7])\n",
      "flattened shape: (8,)\n"
     ]
    }
   ],
   "source": [
    "arr = np.arange(8)\n",
    "arr = np.reshape(arr, (2, 4))\n",
    "flattened = arr.flatten()\n",
    "print(repr(arr))\n",
    "print('arr shape: {}'.format(arr.shape))\n",
    "print(repr(flattened))\n",
    "print('flattened shape: {}'.format(flattened.shape))"
   ]
  },
  {
   "cell_type": "markdown",
   "metadata": {},
   "source": [
    "##### C. Transposing"
   ]
  },
  {
   "cell_type": "code",
   "execution_count": 36,
   "metadata": {},
   "outputs": [
    {
     "name": "stdout",
     "output_type": "stream",
     "text": [
      "array([[0, 1],\n",
      "       [2, 3],\n",
      "       [4, 5],\n",
      "       [6, 7]])\n",
      "arr shape: (4, 2)\n",
      "array([[0, 2, 4, 6],\n",
      "       [1, 3, 5, 7]])\n",
      "transposed shape: (2, 4)\n"
     ]
    }
   ],
   "source": [
    "arr = np.arange(8)\n",
    "arr = np.reshape(arr, (4, 2))\n",
    "transposed = np.transpose(arr)\n",
    "print(repr(arr))\n",
    "print('arr shape: {}'.format(arr.shape))\n",
    "print(repr(transposed))\n",
    "print('transposed shape: {}'.format(transposed.shape))"
   ]
  },
  {
   "cell_type": "code",
   "execution_count": 38,
   "metadata": {},
   "outputs": [
    {
     "name": "stdout",
     "output_type": "stream",
     "text": [
      "arr shape: (3, 4, 2)\n",
      "transposed shape: (4, 2, 3)\n"
     ]
    }
   ],
   "source": [
    "arr = np.arange(24)\n",
    "arr = np.reshape(arr, (3, 4, 2))\n",
    "# 3 is at 0 index, 4 is at 1 index and 2 is at 3 index.\n",
    "# axes 1, 2, 0 means new dimessions are (4, 2, 3). Values at particlar index are positioned here.\n",
    "transposed = np.transpose(arr, axes=(1, 2, 0))\n",
    "print('arr shape: {}'.format(arr.shape))\n",
    "print('transposed shape: {}'.format(transposed.shape))"
   ]
  },
  {
   "cell_type": "markdown",
   "metadata": {},
   "source": [
    "##### D. Zeros and Ones"
   ]
  },
  {
   "cell_type": "code",
   "execution_count": 40,
   "metadata": {},
   "outputs": [
    {
     "name": "stdout",
     "output_type": "stream",
     "text": [
      "array([0., 0., 0., 0.])\n",
      "array([[1., 1., 1.],\n",
      "       [1., 1., 1.]])\n",
      "array([[1, 1, 1],\n",
      "       [1, 1, 1]], dtype=int32)\n"
     ]
    }
   ],
   "source": [
    "arr = np.zeros(4)\n",
    "print(repr(arr))\n",
    "\n",
    "arr = np.ones((2, 3))\n",
    "print(repr(arr))\n",
    "\n",
    "arr = np.ones((2, 3), dtype=np.int32)\n",
    "print(repr(arr))"
   ]
  },
  {
   "cell_type": "code",
   "execution_count": 43,
   "metadata": {},
   "outputs": [
    {
     "name": "stdout",
     "output_type": "stream",
     "text": [
      "array([[0, 0],\n",
      "       [0, 0]])\n",
      "array([[1., 1.],\n",
      "       [1., 1.]])\n",
      "array([[1, 1],\n",
      "       [1, 1]], dtype=int32)\n"
     ]
    }
   ],
   "source": [
    "arr = np.array([[1, 2], [3, 4]])\n",
    "print(repr(np.zeros_like(arr)))\n",
    "\n",
    "arr = np.array([[0., 1.], [1.2, 4.]])\n",
    "print(repr(np.ones_like(arr)))\n",
    "print(repr(np.ones_like(arr, dtype=np.int32)))"
   ]
  },
  {
   "cell_type": "markdown",
   "metadata": {},
   "source": [
    "## Math"
   ]
  },
  {
   "cell_type": "markdown",
   "metadata": {},
   "source": [
    "##### A. Arithmetic"
   ]
  },
  {
   "cell_type": "code",
   "execution_count": 44,
   "metadata": {},
   "outputs": [
    {
     "name": "stdout",
     "output_type": "stream",
     "text": [
      "array([[2, 3],\n",
      "       [4, 5]])\n",
      "array([[-0.2,  0.8],\n",
      "       [ 1.8,  2.8]])\n",
      "array([[2, 4],\n",
      "       [6, 8]])\n",
      "array([[0.5, 1. ],\n",
      "       [1.5, 2. ]])\n",
      "array([[0, 1],\n",
      "       [1, 2]])\n",
      "array([[ 1,  4],\n",
      "       [ 9, 16]])\n",
      "array([[1.        , 1.41421356],\n",
      "       [1.73205081, 2.        ]])\n"
     ]
    }
   ],
   "source": [
    "arr = np.array([[1, 2], [3, 4]])\n",
    "# Add 1 to element values\n",
    "print(repr(arr + 1))\n",
    "# Subtract element values by 1.2\n",
    "print(repr(arr - 1.2))\n",
    "# Double element values\n",
    "print(repr(arr * 2))\n",
    "# Halve element values\n",
    "print(repr(arr / 2))\n",
    "# Integer division (half)\n",
    "print(repr(arr // 2))\n",
    "# Square element values\n",
    "print(repr(arr**2))\n",
    "# Square root element values\n",
    "print(repr(arr**0.5))"
   ]
  },
  {
   "cell_type": "markdown",
   "metadata": {},
   "source": [
    "def f2c(temps):\n",
    "  return (5/9)*(temps-32)\n",
    "\n",
    "fahrenheits = np.array([32, -4, 14, -40, 80])\n",
    "celsius = f2c(fahrenheits)\n",
    "print('Celsius: {}'.format(repr(celsius)))"
   ]
  },
  {
   "cell_type": "markdown",
   "metadata": {},
   "source": [
    "##### B. Non-linear functions"
   ]
  },
  {
   "cell_type": "code",
   "execution_count": 48,
   "metadata": {},
   "outputs": [
    {
     "name": "stdout",
     "output_type": "stream",
     "text": [
      "array([[ 2.71828183,  7.3890561 ],\n",
      "       [20.08553692, 54.59815003]])\n",
      "array([[ 2.,  4.],\n",
      "       [ 8., 16.]])\n",
      "array([[0.        , 2.30258509],\n",
      "       [1.        , 1.14472989]])\n",
      "array([[0.        , 1.        ],\n",
      "       [0.43429448, 0.49714987]])\n"
     ]
    }
   ],
   "source": [
    "arr = np.array([[1, 2], [3, 4]])\n",
    "# Raised to power of e\n",
    "print(repr(np.exp(arr)))\n",
    "# Raised to power of 2\n",
    "print(repr(np.exp2(arr)))\n",
    "\n",
    "arr2 = np.array([[1, 10], [np.e, np.pi]])\n",
    "# Natural logarithm\n",
    "print(repr(np.log(arr2)))\n",
    "# Base 10 logarithm\n",
    "print(repr(np.log10(arr2)))"
   ]
  },
  {
   "cell_type": "code",
   "execution_count": 52,
   "metadata": {},
   "outputs": [
    {
     "name": "stdout",
     "output_type": "stream",
     "text": [
      "array([[ 3,  9],\n",
      "       [27, 81]])\n",
      "array([[ 10.2,  16. ],\n",
      "       [ 27. , 625. ]])\n"
     ]
    }
   ],
   "source": [
    "arr = np.array([[1, 2], [3, 4]])\n",
    "\n",
    "# Raise 3 to power of each number in arr\n",
    "print(repr(np.power(3, arr)))\n",
    "\n",
    "arr2 = np.array([[10.2, 4], [3, 5]])\n",
    "# Raise arr2 to power of each number in arr\n",
    "print(repr(np.power(arr2, arr)))"
   ]
  },
  {
   "cell_type": "markdown",
   "metadata": {},
   "source": [
    "##### C. Matrix multiplication\n",
    "Since NumPy arrays are basically vectors and matrices, it makes sense that there are functions for dot products and matrix multiplication. Specifically, the main function to use is np.matmul, which takes two vector/matrix arrays as input and produces a dot product or matrix multiplication.\n",
    "\n",
    "The code below shows various examples of matrix multiplication. When both inputs are 1-D, the output is the dot product.\n",
    "\n",
    "Note that the dimensions of the two input matrices must be valid for a matrix multiplication. Specifically, the second dimension of the first matrix must equal the first dimension of the second matrix, otherwise np.matmul will result in a ValueError."
   ]
  },
  {
   "cell_type": "code",
   "execution_count": 54,
   "metadata": {},
   "outputs": [
    {
     "name": "stdout",
     "output_type": "stream",
     "text": [
      "27\n"
     ]
    }
   ],
   "source": [
    "arr1 = np.array([1, 2, 3])\n",
    "arr2 = np.array([-3, 0, 10])\n",
    "print(np.matmul(arr1, arr2))"
   ]
  },
  {
   "cell_type": "code",
   "execution_count": 55,
   "metadata": {},
   "outputs": [
    {
     "name": "stdout",
     "output_type": "stream",
     "text": [
      "array([[  5,   4,  -7],\n",
      "       [  9,   8, -13],\n",
      "       [ 13,  12, -19]])\n",
      "array([[  4,   4],\n",
      "       [-11, -10]])\n"
     ]
    }
   ],
   "source": [
    "arr3 = np.array([[1, 2], [3, 4], [5, 6]])\n",
    "arr4 = np.array([[-1, 0, 1], [3, 2, -4]])\n",
    "print(repr(np.matmul(arr3, arr4)))\n",
    "print(repr(np.matmul(arr4, arr3)))"
   ]
  },
  {
   "cell_type": "markdown",
   "metadata": {},
   "source": [
    "## Random"
   ]
  },
  {
   "cell_type": "markdown",
   "metadata": {},
   "source": [
    "##### A. Random Integers"
   ]
  },
  {
   "cell_type": "code",
   "execution_count": 107,
   "metadata": {},
   "outputs": [
    {
     "name": "stdout",
     "output_type": "stream",
     "text": [
      "0\n",
      "0\n",
      "5\n",
      "array([[-2,  9],\n",
      "       [ 4, 10]])\n"
     ]
    }
   ],
   "source": [
    "print(np.random.randint(5))\n",
    "print(np.random.randint(5))\n",
    "print(np.random.randint(5, high=6))\n",
    "random_arr = np.random.randint(-3, high=14, size=(2, 2))\n",
    "print(repr(random_arr))"
   ]
  },
  {
   "cell_type": "markdown",
   "metadata": {},
   "source": [
    "##### B. Utility functions"
   ]
  },
  {
   "cell_type": "code",
   "execution_count": 118,
   "metadata": {},
   "outputs": [
    {
     "name": "stdout",
     "output_type": "stream",
     "text": [
      "37\n",
      "array([[15, 75],\n",
      "       [12, 78]])\n",
      "8\n",
      "array([[18, 75],\n",
      "       [25, 46]])\n",
      "5\n",
      "array([[15, 75],\n",
      "       [12, 78]])\n"
     ]
    }
   ],
   "source": [
    "np.random.seed(1)\n",
    "print(np.random.randint(100))\n",
    "random_arr = np.random.randint(3, high=100, size=(2, 2))\n",
    "print(repr(random_arr))\n",
    "\n",
    "# New seed\n",
    "np.random.seed(2)\n",
    "print(np.random.randint(10))\n",
    "random_arr = np.random.randint(3, high=100,\n",
    "                               size=(2, 2))\n",
    "print(repr(random_arr))\n",
    "\n",
    "# Original seed\n",
    "np.random.seed(1)\n",
    "print(np.random.randint(10))\n",
    "random_arr = np.random.randint(3, high=100,\n",
    "                               size=(2, 2))\n",
    "print(repr(random_arr))"
   ]
  },
  {
   "cell_type": "markdown",
   "metadata": {},
   "source": [
    "The np.random.shuffle function allows us to randomly shuffle an array. Note that the shuffling happens in place (i.e. no return value), and shuffling multi-dimensional arrays only shuffles the first dimension.\n",
    "\n",
    "The code below shows example usages of np.random.shuffle. Note that only the rows of matrix are shuffled (i.e. shuffling along first dimension only)."
   ]
  },
  {
   "cell_type": "code",
   "execution_count": 119,
   "metadata": {},
   "outputs": [
    {
     "name": "stdout",
     "output_type": "stream",
     "text": [
      "array([3, 4, 2, 5, 1])\n",
      "array([5, 3, 4, 2, 1])\n",
      "array([[4, 5, 6],\n",
      "       [7, 8, 9],\n",
      "       [1, 2, 3]])\n"
     ]
    }
   ],
   "source": [
    "vec = np.arange(1, 6)\n",
    "np.random.shuffle(vec)\n",
    "print(repr(vec))\n",
    "np.random.shuffle(vec)\n",
    "print(repr(vec))\n",
    "\n",
    "matrix = np.array([[1, 2, 3],\n",
    "                   [4, 5, 6],\n",
    "                   [7, 8, 9]])\n",
    "np.random.shuffle(matrix)\n",
    "print(repr(matrix))"
   ]
  },
  {
   "cell_type": "markdown",
   "metadata": {},
   "source": [
    "##### C. Distributions"
   ]
  },
  {
   "cell_type": "code",
   "execution_count": 128,
   "metadata": {},
   "outputs": [
    {
     "name": "stdout",
     "output_type": "stream",
     "text": [
      "0.5843891207379291\n",
      "0.5938745016175146\n",
      "array([0.61393832, 0.95653566, 0.26097898])\n",
      "array([[-1.25155657,  1.56107096],\n",
      "       [ 5.43442469,  1.18545422]])\n"
     ]
    }
   ],
   "source": [
    "print(np.random.uniform())\n",
    "print(np.random.uniform(low=-1.5, high=2.2))\n",
    "print(repr(np.random.uniform(size=3)))\n",
    "print(repr(np.random.uniform(low=-3.4, high=5.9, size=(2, 2))))"
   ]
  },
  {
   "cell_type": "code",
   "execution_count": 133,
   "metadata": {},
   "outputs": [
    {
     "name": "stdout",
     "output_type": "stream",
     "text": [
      "1.015262918840633\n",
      "4.858728715673602\n",
      "array([[ -2.90921259,   0.39421666],\n",
      "       [-11.30198034,  -7.4729174 ]])\n"
     ]
    }
   ],
   "source": [
    "print(np.random.normal())\n",
    "print(np.random.normal(loc=1.5, scale=3.5))\n",
    "print(repr(np.random.normal(loc=-2.4, scale=4.0, size=(2, 2))))"
   ]
  },
  {
   "cell_type": "markdown",
   "metadata": {},
   "source": [
    "##### D. Custom Sampling"
   ]
  },
  {
   "cell_type": "code",
   "execution_count": 2,
   "metadata": {},
   "outputs": [
    {
     "name": "stdout",
     "output_type": "stream",
     "text": [
      "red\n",
      "array(['red', 'blue'], dtype='<U5')\n",
      "array([['red', 'red', 'red'],\n",
      "       ['red', 'red', 'red']], dtype='<U5')\n"
     ]
    }
   ],
   "source": [
    "colors = ['red', 'blue', 'green']\n",
    "print(np.random.choice(colors))\n",
    "print(repr(np.random.choice(colors, size=2)))\n",
    "print(repr(np.random.choice(colors, size=(2, 3), p=[.8, .19, .01])))"
   ]
  },
  {
   "cell_type": "markdown",
   "metadata": {},
   "source": [
    "## Indexing"
   ]
  },
  {
   "cell_type": "markdown",
   "metadata": {},
   "source": [
    "##### 1. Array Accessing"
   ]
  },
  {
   "cell_type": "code",
   "execution_count": 5,
   "metadata": {},
   "outputs": [
    {
     "name": "stdout",
     "output_type": "stream",
     "text": [
      "1\n",
      "5\n",
      "array([6, 3])\n"
     ]
    }
   ],
   "source": [
    "arr = np.array([1, 2, 3, 4, 5])\n",
    "print(arr[0])\n",
    "print(arr[4])\n",
    "\n",
    "arr = np.array([[6, 3], [0, 2]])\n",
    "# Subarray\n",
    "print(repr(arr[0]))"
   ]
  },
  {
   "cell_type": "markdown",
   "metadata": {},
   "source": [
    "##### 2. Slicing"
   ]
  },
  {
   "cell_type": "code",
   "execution_count": 12,
   "metadata": {},
   "outputs": [
    {
     "name": "stdout",
     "output_type": "stream",
     "text": [
      "array([1, 2, 3, 4, 5])\n",
      "array([2, 3, 4, 5])\n",
      "array([3, 4])\n",
      "array([1, 2, 3, 4])\n",
      "array([4, 5])\n"
     ]
    }
   ],
   "source": [
    "arr = np.array([1, 2, 3, 4, 5])\n",
    "print(repr(arr[:]))\n",
    "print(repr(arr[1:]))\n",
    "print(repr(arr[2:4]))\n",
    "print(repr(arr[:-1]))\n",
    "print(repr(arr[-2:]))"
   ]
  },
  {
   "cell_type": "code",
   "execution_count": 19,
   "metadata": {},
   "outputs": [
    {
     "name": "stdout",
     "output_type": "stream",
     "text": [
      "array([[1, 2, 3],\n",
      "       [4, 5, 6],\n",
      "       [7, 8, 9]])\n",
      "array([[4, 5, 6],\n",
      "       [7, 8, 9]])\n",
      "array([3, 6, 9])\n",
      "array([[2, 3],\n",
      "       [5, 6],\n",
      "       [8, 9]])\n",
      "array([[2, 3]])\n",
      "array([2, 3])\n"
     ]
    }
   ],
   "source": [
    "arr = np.array([[1, 2, 3],\n",
    "                [4, 5, 6],\n",
    "                [7, 8, 9]])\n",
    "print(repr(arr[:]))\n",
    "print(repr(arr[1:]))\n",
    "\n",
    "# Last item in all rows\n",
    "print(repr(arr[:, -1]))\n",
    "\n",
    "print(repr(arr[:, 1:]))\n",
    "print(repr(arr[0:1, 1:]))\n",
    "print(repr(arr[0, 1:]))"
   ]
  },
  {
   "cell_type": "markdown",
   "metadata": {},
   "source": [
    "##### C. Argmin and argmax"
   ]
  },
  {
   "cell_type": "code",
   "execution_count": 21,
   "metadata": {},
   "outputs": [
    {
     "name": "stdout",
     "output_type": "stream",
     "text": [
      "2\n",
      "1\n",
      "5\n"
     ]
    }
   ],
   "source": [
    "arr = np.array([[-2, -1, -3],\n",
    "                [4, 5, -6],\n",
    "                [-3, 9, 1]])\n",
    "print(np.argmin(arr[0]))\n",
    "print(np.argmax(arr[2]))\n",
    "print(np.argmin(arr))"
   ]
  },
  {
   "cell_type": "code",
   "execution_count": 22,
   "metadata": {},
   "outputs": [
    {
     "name": "stdout",
     "output_type": "stream",
     "text": [
      "array([2, 0, 1])\n",
      "array([2, 2, 0])\n",
      "array([1, 1, 1])\n"
     ]
    }
   ],
   "source": [
    "arr = np.array([[-2, -1, -3],\n",
    "                [4, 5, -6],\n",
    "                [-3, 9, 1]])\n",
    "print(repr(np.argmin(arr, axis=0)))\n",
    "print(repr(np.argmin(arr, axis=1)))\n",
    "print(repr(np.argmax(arr, axis=-1)))"
   ]
  }
 ],
 "metadata": {
  "kernelspec": {
   "display_name": "Python 3",
   "language": "python",
   "name": "python3"
  },
  "language_info": {
   "codemirror_mode": {
    "name": "ipython",
    "version": 3
   },
   "file_extension": ".py",
   "mimetype": "text/x-python",
   "name": "python",
   "nbconvert_exporter": "python",
   "pygments_lexer": "ipython3",
   "version": "3.8.3"
  }
 },
 "nbformat": 4,
 "nbformat_minor": 4
}
